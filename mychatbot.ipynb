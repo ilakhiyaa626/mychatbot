{
  "nbformat": 4,
  "nbformat_minor": 0,
  "metadata": {
    "colab": {
      "provenance": [],
      "authorship_tag": "ABX9TyOb0D1AkZNmuI/vVscOHjRs",
      "include_colab_link": true
    },
    "kernelspec": {
      "name": "python3",
      "display_name": "Python 3"
    },
    "language_info": {
      "name": "python"
    }
  },
  "cells": [
    {
      "cell_type": "markdown",
      "metadata": {
        "id": "view-in-github",
        "colab_type": "text"
      },
      "source": [
        "<a href=\"https://colab.research.google.com/github/ilakhiyaa626/mychatbot/blob/main/mychatbot.ipynb\" target=\"_parent\"><img src=\"https://colab.research.google.com/assets/colab-badge.svg\" alt=\"Open In Colab\"/></a>"
      ]
    },
    {
      "cell_type": "code",
      "execution_count": null,
      "metadata": {
        "colab": {
          "base_uri": "https://localhost:8080/"
        },
        "id": "d_ALBuN4dNHH",
        "outputId": "6473a885-7950-40e3-902f-01f56458bc41"
      },
      "outputs": [
        {
          "output_type": "stream",
          "name": "stdout",
          "text": [
            "ðŸŸ¢ Groq Terminal ChatBot - Type 'exit' to quit\n",
            "ðŸ‘¤ You: hiii\n",
            "ðŸ¤– GroqBot: Hiii! How's it going?\n",
            "ðŸ‘¤ You: some joke\n",
            "ðŸ¤– GroqBot: Here's one:\n",
            "\n",
            " Why couldn't the bicycle stand up by itself?\n",
            "\n",
            "(Wait for it...)\n",
            "\n",
            "Because it was two-tired!\n",
            "\n",
            "Hope that made you smile! Do you have a favorite joke to share?\n",
            "ðŸ‘¤ You: some other\n",
            "ðŸ¤– GroqBot: Here's another one:\n",
            "\n",
            "What do you call a fake noodle?\n",
            "\n",
            "(Think you know the answer?)\n",
            "\n",
            "An impasta!\n",
            "\n",
            "And here's one more:\n",
            "\n",
            "Why did the scarecrow win an award?\n",
            "\n",
            "(You might need to think outside the box for this one...)\n",
            "\n",
            "Because he was outstanding in his field!\n",
            "\n",
            "Okay, one more:\n",
            "\n",
            "What do you call a group of cows playing instruments?\n",
            "\n",
            "(You might need to moo-ve fast to keep up with this one...)\n",
            "\n",
            "A moo-sical band!\n",
            "\n",
            "Hope those made you chuckle! Do you have a favorite type of joke or topic you'd like to hear jokes about?\n"
          ]
        }
      ],
      "source": [
        "\n",
        "import requests\n",
        "import os\n",
        "\n",
        "# ðŸ”‘ Replace with your actual Groq API key or use environment variable\n",
        "\n",
        "GROQ_API_KEY = os.getenv(\"GROQ_API_KEY\", \"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\")\n",
        "\n",
        "# ðŸ¤– Choose the model: Mixtral is smart and fast!\n",
        "MODEL = \"llama3-8b-8192\"\n",
        "\n",
        "# ðŸ”  Chat loop\n",
        "print(\"ðŸŸ¢ Groq Terminal ChatBot - Type 'exit' to quit\")\n",
        "\n",
        "chat_history = []\n",
        "\n",
        "while True:\n",
        "    user_input = input(\"ðŸ‘¤ You: \")\n",
        "    if user_input.lower() == \"exit\":\n",
        "        print(\"ðŸ‘‹ Exiting chat. Bye!\")\n",
        "        break\n",
        "\n",
        "    # Add user message to chat history\n",
        "    chat_history.append({\"role\": \"user\", \"content\": user_input})\n",
        "\n",
        "    response = requests.post(\n",
        "        \"https://api.groq.com/openai/v1/chat/completions\",\n",
        "        headers={\n",
        "            \"Authorization\": f\"Bearer {GROQ_API_KEY}\",\n",
        "            \"Content-Type\": \"application/json\"\n",
        "        },\n",
        "        json={\n",
        "            \"model\": MODEL,\n",
        "            \"messages\": chat_history\n",
        "        }\n",
        "    )\n",
        "\n",
        "    if response.status_code == 200:\n",
        "        reply = response.json()[\"choices\"][0][\"message\"][\"content\"]\n",
        "        print(\"ðŸ¤– GroqBot:\", reply)\n",
        "        chat_history.append({\"role\": \"assistant\", \"content\": reply})\n",
        "    else:\n",
        "        print(\"â Œ Error:\", response.status_code, response.text)\n"
      ]
    }
  ]
}